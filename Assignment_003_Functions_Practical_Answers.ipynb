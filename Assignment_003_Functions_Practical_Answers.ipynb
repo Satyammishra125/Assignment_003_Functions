{
 "cells": [
  {
   "cell_type": "markdown",
   "id": "e817d3de-df45-4cdd-8777-18faa28ff233",
   "metadata": {},
   "source": [
    "# Assignment 003 Function "
   ]
  },
  {
   "cell_type": "markdown",
   "id": "972aa709-4b87-4cb7-b513-d6f98f4f7e38",
   "metadata": {},
   "source": [
    "## Practical Questions Solutions."
   ]
  },
  {
   "cell_type": "markdown",
   "id": "e45060ac-51da-42e2-aa83-65b430a2431a",
   "metadata": {},
   "source": [
    "### 1. Write a Python function that takes a list of numbers as input and returns the sum of all even numbers in the list."
   ]
  },
  {
   "cell_type": "code",
   "execution_count": 1,
   "id": "be38cfec-dc18-4570-be21-191f98ce50a7",
   "metadata": {},
   "outputs": [
    {
     "name": "stdout",
     "output_type": "stream",
     "text": [
      "Sum of even numbers: 210\n"
     ]
    }
   ],
   "source": [
    "def sum_of_even_numbers():\n",
    "    # Prompt the user to enter a list of numbers\n",
    "    user_input = input(\"Enter a list of numbers separated by spaces: \")\n",
    "    \n",
    "    # Split the input string into individual number strings and convert them to integers\n",
    "    numbers = list(map(int, user_input.split()))\n",
    "    \n",
    "    # Calculate the sum of all even numbers in the list\n",
    "    even_sum = sum(num for num in numbers if num % 2 == 0)\n",
    "    \n",
    "    return even_sum\n",
    "\n",
    "# Example usage\n",
    "result = sum_of_even_numbers()\n",
    "print(\"Sum of even numbers:\", result)\n"
   ]
  },
  {
   "cell_type": "markdown",
   "id": "23e275ea-2c30-479f-81ae-13c633b07ea8",
   "metadata": {},
   "source": [
    "### 2. Create a Python function that accepts a string and returns the reverse of that string."
   ]
  },
  {
   "cell_type": "code",
   "execution_count": 2,
   "id": "0c828a6a-9bd3-4550-b4b7-7ac337d4450f",
   "metadata": {},
   "outputs": [
    {
     "name": "stdout",
     "output_type": "stream",
     "text": [
      "Reversed string: sivraJ olleH\n"
     ]
    }
   ],
   "source": [
    "def reverse_string():\n",
    "    # Prompt the user to enter a string\n",
    "    user_input = input(\"Enter a string: \")\n",
    "    \n",
    "    # Reverse the string using slicing\n",
    "    reversed_string = user_input[::-1]\n",
    "    \n",
    "    return reversed_string\n",
    "\n",
    "# Example usage\n",
    "result = reverse_string()\n",
    "print(\"Reversed string:\", result)\n"
   ]
  },
  {
   "cell_type": "markdown",
   "id": "1bf32052-10bf-4a47-b80c-a79b8162a2ae",
   "metadata": {},
   "source": [
    "### 3.  Implement a Python function that takes a list of integers and returns a new list containing the squares of each number."
   ]
  },
  {
   "cell_type": "code",
   "execution_count": 3,
   "id": "ad3daf60-6410-4d52-ba78-2bbc1c0dfb7f",
   "metadata": {},
   "outputs": [
    {
     "name": "stdout",
     "output_type": "stream",
     "text": [
      "Original list: [1, 2, 3, 4, 5, 6, 8, 9, 7, 12]\n",
      "Squared list: [1, 4, 9, 16, 25, 36, 64, 81, 49, 144]\n"
     ]
    }
   ],
   "source": [
    "def squares_of_list(numbers):\n",
    "    \"\"\"\n",
    "    Takes a list of integers and returns a new list with the squares of each number.\n",
    "\n",
    "    Parameters:\n",
    "    numbers (list of int): A list of integers.\n",
    "\n",
    "    Returns:\n",
    "    list of int: A new list with each element squared.\n",
    "    \"\"\"\n",
    "    return [num ** 2 for num in numbers]\n",
    "\n",
    "def get_list_from_user():\n",
    "    \"\"\"\n",
    "    Prompts the user to enter a list of integers separated by spaces.\n",
    "    \n",
    "    Returns:\n",
    "    list of int: The list of integers entered by the user.\n",
    "    \"\"\"\n",
    "    user_input = input(\"Enter a list of integers separated by spaces: \")\n",
    "    try:\n",
    "        # Convert the input string to a list of integers\n",
    "        numbers = list(map(int, user_input.split()))\n",
    "        return numbers\n",
    "    except ValueError:\n",
    "        print(\"Invalid input. Please enter only integers separated by spaces.\")\n",
    "        return []\n",
    "\n",
    "# Example usage\n",
    "user_list = get_list_from_user()\n",
    "if user_list:  # Check if the list is not empty\n",
    "    squared_list = squares_of_list(user_list)\n",
    "    print(\"Original list:\", user_list)\n",
    "    print(\"Squared list:\", squared_list)\n",
    "\n",
    "    "
   ]
  },
  {
   "cell_type": "markdown",
   "id": "df69647c-906a-4e62-939d-8420df3c843d",
   "metadata": {},
   "source": [
    "### 4.  Write a Python function that checks if a given number is prime or not from 1 to 200."
   ]
  },
  {
   "cell_type": "code",
   "execution_count": 9,
   "id": "1983dace-39f5-4a7e-a305-e524a8d761ea",
   "metadata": {},
   "outputs": [
    {
     "name": "stdout",
     "output_type": "stream",
     "text": [
      "Enter a number between 1 to 200:  193\n"
     ]
    },
    {
     "name": "stdout",
     "output_type": "stream",
     "text": [
      "193 is a prime number.\n"
     ]
    }
   ],
   "source": [
    "def is_prime(number):\n",
    "    \"\"\"\n",
    "    Check if a given number is a prime number.\n",
    "\n",
    "    Parameters:\n",
    "    number (int): The number to check.\n",
    "\n",
    "    Returns:\n",
    "    bool: True if the number is prime, False otherwise.\n",
    "    \"\"\"\n",
    "    # Check if the number is within the valid range\n",
    "    if not (1 <= number <= 200):\n",
    "        return False\n",
    "    \n",
    "    # Handle edge cases\n",
    "    if number <= 1:\n",
    "        return False\n",
    "    if number == 2:\n",
    "        return True  # 2 is the only even prime number\n",
    "    if number % 2 == 0:\n",
    "        return False  # Other even numbers are not prime\n",
    "    \n",
    "    # Check for factors from 3 up to the square root of the number\n",
    "    import math\n",
    "    for i in range(3, int(math.sqrt(number)) + 1, 2):\n",
    "        if number % i == 0:\n",
    "            return False\n",
    "    \n",
    "    return True\n",
    "\n",
    "# Example usage\n",
    "number = int(input(\"Enter a number between 1 to 200: \"))\n",
    "if is_prime(number):\n",
    "    print(f\"{number} is a prime number.\")\n",
    "else:\n",
    "    print(f\"{number} is not a prime number.\")\n"
   ]
  },
  {
   "cell_type": "markdown",
   "id": "7a39dcb9-00e8-4974-837f-d6f41a7a9bdc",
   "metadata": {},
   "source": [
    "### 5.  Create an iterator class in Python that generates the Fibonacci sequence up to a specified number of terms."
   ]
  },
  {
   "cell_type": "code",
   "execution_count": 11,
   "id": "7c5260d5-e41e-4041-9726-e23cb4665e79",
   "metadata": {},
   "outputs": [
    {
     "name": "stdout",
     "output_type": "stream",
     "text": [
      "Enter the number of Fibonacci terms to generate:  10\n"
     ]
    },
    {
     "name": "stdout",
     "output_type": "stream",
     "text": [
      "Fibonacci sequence:\n",
      "0\n",
      "1\n",
      "1\n",
      "2\n",
      "3\n",
      "5\n",
      "8\n",
      "13\n",
      "21\n",
      "34\n"
     ]
    }
   ],
   "source": [
    "class FibonacciIterator:\n",
    "    def __init__(self, terms):\n",
    "        \"\"\"\n",
    "        Initialize the Fibonacci iterator with the number of terms.\n",
    "\n",
    "        Parameters:\n",
    "        terms (int): The number of Fibonacci terms to generate.\n",
    "        \"\"\"\n",
    "        if terms < 0:\n",
    "            raise ValueError(\"Number of terms must be a non-negative integer.\")\n",
    "        self.terms = terms\n",
    "        self.current = 0\n",
    "        self.a, self.b = 0, 1\n",
    "    \n",
    "    def __iter__(self):\n",
    "        \"\"\"\n",
    "        Return the iterator object itself.\n",
    "        \"\"\"\n",
    "        return self\n",
    "    \n",
    "    def __next__(self):\n",
    "        \"\"\"\n",
    "        Return the next number in the Fibonacci sequence.\n",
    "\n",
    "        Returns:\n",
    "        int: The next Fibonacci number.\n",
    "\n",
    "        Raises:\n",
    "        StopIteration: When the number of terms is reached.\n",
    "        \"\"\"\n",
    "        if self.current >= self.terms:\n",
    "            raise StopIteration\n",
    "        \n",
    "        if self.current == 0:\n",
    "            result = 0\n",
    "        elif self.current == 1:\n",
    "            result = 1\n",
    "        else:\n",
    "            result = self.a + self.b\n",
    "            self.a, self.b = self.b, result\n",
    "        \n",
    "        self.current += 1\n",
    "        return result\n",
    "\n",
    "# Example usage\n",
    "num_terms = int(input(\"Enter the number of Fibonacci terms to generate: \"))\n",
    "fib_iter = FibonacciIterator(num_terms)\n",
    "\n",
    "print(\"Fibonacci sequence:\")\n",
    "for number in fib_iter:\n",
    "    print(number)\n"
   ]
  },
  {
   "cell_type": "markdown",
   "id": "8c719555-e4cf-4a39-9670-9cf2be65d16c",
   "metadata": {},
   "source": [
    "### 6. Write a generator function in Python that yields the powers of 2 up to a given exponent."
   ]
  },
  {
   "cell_type": "code",
   "execution_count": 14,
   "id": "86c55002-cacb-42fa-986f-33bab2f328ac",
   "metadata": {},
   "outputs": [
    {
     "name": "stdout",
     "output_type": "stream",
     "text": [
      "Enter the maximum exponent for powers of 2:  10\n"
     ]
    },
    {
     "name": "stdout",
     "output_type": "stream",
     "text": [
      "Powers of 2:\n",
      "1\n",
      "2\n",
      "4\n",
      "8\n",
      "16\n",
      "32\n",
      "64\n",
      "128\n",
      "256\n",
      "512\n",
      "1024\n"
     ]
    }
   ],
   "source": [
    "def powers_of_two(exponent):\n",
    "    \"\"\"\n",
    "    Generate powers of 2 up to the given exponent.\n",
    "\n",
    "    Parameters:\n",
    "    exponent (int): The maximum exponent to generate powers of 2.\n",
    "\n",
    "    Yields:\n",
    "    int: The next power of 2.\n",
    "    \"\"\"\n",
    "    if exponent < 0:\n",
    "        raise ValueError(\"Exponent must be a non-negative integer.\")\n",
    "    \n",
    "    for exp in range(exponent + 1):\n",
    "        yield 2 ** exp\n",
    "\n",
    "# Example usage\n",
    "max_exponent = int(input(\"Enter the maximum exponent for powers of 2: \"))\n",
    "print(\"Powers of 2:\")\n",
    "for power in powers_of_two(max_exponent):\n",
    "    print(power)\n"
   ]
  },
  {
   "cell_type": "markdown",
   "id": "1830dcbf-5f6c-4d29-a9d1-c39bb709c16c",
   "metadata": {},
   "source": [
    "### 7. Implement a generator function that reads a file line by line and yields each line as a string."
   ]
  },
  {
   "cell_type": "code",
   "execution_count": 18,
   "id": "fa59c68f-c266-41e9-92fc-f9787ee31cf0",
   "metadata": {},
   "outputs": [
    {
     "name": "stdout",
     "output_type": "stream",
     "text": [
      "Enter the path to the file:  123\n"
     ]
    },
    {
     "name": "stdout",
     "output_type": "stream",
     "text": [
      "File contents:\n",
      "Error: The file at 123 was not found.\n"
     ]
    }
   ],
   "source": [
    "def read_file_lines(file_path):\n",
    "    \"\"\"\n",
    "    Generator function to read a file line by line.\n",
    "\n",
    "    Parameters:\n",
    "    file_path (str): Path to the file to be read.\n",
    "\n",
    "    Yields:\n",
    "    str: The next line from the file.\n",
    "    \"\"\"\n",
    "    try:\n",
    "        with open(file_path, 'r') as file:\n",
    "            for line in file:\n",
    "                yield line.strip()  # Use strip() to remove any trailing newline characters\n",
    "    except FileNotFoundError:\n",
    "        print(f\"Error: The file at {file_path} was not found.\")\n",
    "    except IOError as e:\n",
    "        print(f\"Error: An I/O error occurred. Details: {e}\")\n",
    "\n",
    "# Example usage\n",
    "file_path = input(\"Enter the path to the file: \")\n",
    "print(\"File contents:\")\n",
    "for line in read_file_lines(file_path):\n",
    "    print(line)\n"
   ]
  },
  {
   "cell_type": "markdown",
   "id": "ed4426bf-c264-4ee9-8074-f1662103df65",
   "metadata": {},
   "source": [
    "### 8. Use a lambda function in Python to sort a list of tuples based on the second element of each tuple."
   ]
  },
  {
   "cell_type": "code",
   "execution_count": 4,
   "id": "bf5f474a-5fed-4f87-a940-2a62333fa2f6",
   "metadata": {},
   "outputs": [
    {
     "name": "stdout",
     "output_type": "stream",
     "text": [
      "Sorted list: [(4, 1), (2, 2), (1, 3), (5, 4)]\n"
     ]
    }
   ],
   "source": [
    "# Define a list of tuples\n",
    "list_of_tuples = [(1, 3), (4, 1), (2, 2), (5, 4)]\n",
    "\n",
    "# Sort the list of tuples based on the second element of each tuple using sorted() and a lambda function\n",
    "sorted_list = sorted(list_of_tuples, key=lambda x: x[1])\n",
    "\n",
    "# Print the sorted list\n",
    "print(\"Sorted list:\", sorted_list)\n"
   ]
  },
  {
   "cell_type": "code",
   "execution_count": 20,
   "id": "fa0e6b2a-357c-477c-b6df-4acb0986d3ba",
   "metadata": {},
   "outputs": [
    {
     "name": "stdout",
     "output_type": "stream",
     "text": [
      "Sorted list: [(4, 1), (2, 2), (1, 3), (5, 4)]\n"
     ]
    }
   ],
   "source": [
    "# Define a list of tuples\n",
    "list_of_tuples = [(1, 3), (4, 1), (2, 2), (5, 4)]\n",
    "\n",
    "# Sort the list of tuples in-place based on the second element of each tuple using sort() and a lambda function\n",
    "list_of_tuples.sort(key=lambda x: x[1])\n",
    "\n",
    "# Print the sorted list\n",
    "print(\"Sorted list:\", list_of_tuples)\n"
   ]
  },
  {
   "cell_type": "markdown",
   "id": "e2a29d84-7367-4e78-bcf8-9f171dab6092",
   "metadata": {},
   "source": [
    "### 9. Write a Python program that uses `map()` to convert a list of temperatures from Celsius to Fahrenheit."
   ]
  },
  {
   "cell_type": "code",
   "execution_count": 21,
   "id": "f152194b-6943-4c75-adca-6b3c1c6a7000",
   "metadata": {},
   "outputs": [
    {
     "name": "stdout",
     "output_type": "stream",
     "text": [
      "Celsius temperatures: [0, 20, 37, 100, -40]\n",
      "Fahrenheit temperatures: [32.0, 68.0, 98.6, 212.0, -40.0]\n"
     ]
    }
   ],
   "source": [
    "def celsius_to_fahrenheit(celsius):\n",
    "    \"\"\"\n",
    "    Convert Celsius temperature to Fahrenheit.\n",
    "\n",
    "    Parameters:\n",
    "    celsius (float): Temperature in Celsius.\n",
    "\n",
    "    Returns:\n",
    "    float: Temperature in Fahrenheit.\n",
    "    \"\"\"\n",
    "    return (celsius * 9/5) + 32\n",
    "\n",
    "# List of temperatures in Celsius\n",
    "celsius_temperatures = [0, 20, 37, 100, -40]\n",
    "\n",
    "# Use map() to apply the conversion function to each temperature\n",
    "fahrenheit_temperatures = list(map(celsius_to_fahrenheit, celsius_temperatures))\n",
    "\n",
    "# Print the results\n",
    "print(\"Celsius temperatures:\", celsius_temperatures)\n",
    "print(\"Fahrenheit temperatures:\", fahrenheit_temperatures)\n"
   ]
  },
  {
   "cell_type": "markdown",
   "id": "681f7112-2189-4131-a5a7-101f11d9a54f",
   "metadata": {},
   "source": [
    "### 10. Create a Python program that uses `filter()` to remove all the vowels from a given string."
   ]
  },
  {
   "cell_type": "code",
   "execution_count": 25,
   "id": "e870c8c9-7ea2-4036-b0d2-4802a3faf81b",
   "metadata": {},
   "outputs": [
    {
     "name": "stdout",
     "output_type": "stream",
     "text": [
      "Enter a sentence or word: hi\n"
     ]
    },
    {
     "name": "stdout",
     "output_type": "stream",
     "text": [
      "Original string: hi\n",
      "String without vowels: h\n"
     ]
    }
   ],
   "source": [
    "def is_not_vowel(char):\n",
    "    # Define vowels\n",
    "    vowels = 'aeiouAEIOU'\n",
    "    # Check if the character is not a vowel\n",
    "    return char not in vowels\n",
    "\n",
    "def remove_vowels(input_string):\n",
    "    # Use filter() to apply is_not_vowel function to each character in input_string\n",
    "    filtered_chars = filter(is_not_vowel, input_string)\n",
    "    # Join the filtered characters into a new string\n",
    "    result_string = ''.join(filtered_chars)\n",
    "    return result_string\n",
    "\n",
    "# Example usage\n",
    "input_string = input(\"Enter a sentence or word:\")\n",
    "result = remove_vowels(input_string)\n",
    "print(f\"Original string: {input_string}\")\n",
    "print(f\"String without vowels: {result}\")\n"
   ]
  },
  {
   "cell_type": "code",
   "execution_count": null,
   "id": "fa9bb834-ed67-4a43-85e7-6b9f0d6bc5f8",
   "metadata": {},
   "outputs": [],
   "source": []
  },
  {
   "cell_type": "code",
   "execution_count": null,
   "id": "1de67b2e-e863-4d39-a3d8-f4dca6e10519",
   "metadata": {},
   "outputs": [],
   "source": []
  },
  {
   "cell_type": "code",
   "execution_count": null,
   "id": "024059f9-885b-4e90-8da1-8229543ed712",
   "metadata": {},
   "outputs": [],
   "source": []
  },
  {
   "cell_type": "code",
   "execution_count": null,
   "id": "5692b4e4-34ed-41c7-b684-57991e743d6a",
   "metadata": {},
   "outputs": [],
   "source": []
  },
  {
   "cell_type": "code",
   "execution_count": null,
   "id": "4b0d2dd7-80bf-4fc7-b3ee-827d8f412744",
   "metadata": {},
   "outputs": [],
   "source": []
  }
 ],
 "metadata": {
  "kernelspec": {
   "display_name": "Python 3 (ipykernel)",
   "language": "python",
   "name": "python3"
  },
  "language_info": {
   "codemirror_mode": {
    "name": "ipython",
    "version": 3
   },
   "file_extension": ".py",
   "mimetype": "text/x-python",
   "name": "python",
   "nbconvert_exporter": "python",
   "pygments_lexer": "ipython3",
   "version": "3.12.6"
  }
 },
 "nbformat": 4,
 "nbformat_minor": 5
}
