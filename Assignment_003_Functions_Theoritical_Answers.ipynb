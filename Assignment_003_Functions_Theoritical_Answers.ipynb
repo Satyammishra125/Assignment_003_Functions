{
 "cells": [
  {
   "cell_type": "markdown",
   "metadata": {},
   "source": [
    "# Theoritcal Answers with few Examples"
   ]
  },
  {
   "cell_type": "markdown",
   "metadata": {},
   "source": [
    "### 1. Difference Between a Function and a Method\n",
    "\n",
    "- **Function:** A function is a block of reusable code that performs a specific task. It can be defined using the `def` keyword and is not associated with any object or class. Functions can be standalone or part of a module."
   ]
  },
  {
   "cell_type": "code",
   "execution_count": 1,
   "metadata": {},
   "outputs": [],
   "source": [
    "def my_function(x):\n",
    "    return x * 2\n"
   ]
  },
  {
   "cell_type": "markdown",
   "metadata": {},
   "source": [
    "- **Method:** A method is a function that is associated with an object or class. It is defined within a class and operates on the data contained in that class (the instance). Methods are called on objects of the class."
   ]
  },
  {
   "cell_type": "code",
   "execution_count": 4,
   "metadata": {},
   "outputs": [],
   "source": [
    "class MyClass:\n",
    "    def my_method(self, x):\n",
    "        return x * 2\n",
    "\n",
    "obj = MyClass()\n",
    "result = obj.my_method(5)\n"
   ]
  },
  {
   "cell_type": "markdown",
   "metadata": {},
   "source": [
    "### 2. Function Arguments and Parameters\n",
    "\n",
    "- **Parameters:** Parameters are the variables listed in the function definition. They act as placeholders for the values that will be passed to the function when it is called."
   ]
  },
  {
   "cell_type": "code",
   "execution_count": 5,
   "metadata": {},
   "outputs": [],
   "source": [
    "def greet(name):  # `name` is a parameter\n",
    "    return f\"Hello, {name}!\"\n",
    "    "
   ]
  },
  {
   "cell_type": "markdown",
   "metadata": {},
   "source": [
    "- **Arguments:** Arguments are the actual values passed to the function when it is called. They are assigned to the corresponding parameters.\n"
   ]
  },
  {
   "cell_type": "code",
   "execution_count": 6,
   "metadata": {},
   "outputs": [],
   "source": [
    "message = greet(\"Alice\")  # `\"Alice\"` is an argument\n"
   ]
  },
  {
   "cell_type": "markdown",
   "metadata": {},
   "source": [
    "### 3. Defining and Calling Functions\n",
    "\n",
    "- **Defining a Function:**\n"
   ]
  },
  {
   "cell_type": "code",
   "execution_count": 7,
   "metadata": {},
   "outputs": [],
   "source": [
    "def function_name(parameters):\n",
    "    # function body\n",
    "    return value\n"
   ]
  },
  {
   "cell_type": "markdown",
   "metadata": {},
   "source": [
    "- **Calling a Function:**\n",
    "  ```python\n",
    "  function_name(arguments)\n",
    "  ```"
   ]
  },
  {
   "cell_type": "markdown",
   "metadata": {},
   "source": [
    "  **Example:**"
   ]
  },
  {
   "cell_type": "code",
   "execution_count": 9,
   "metadata": {},
   "outputs": [],
   "source": [
    "def add(a, b):\n",
    "    return a + b\n",
    "\n",
    "result = add(2, 3)  # Calling the function\n"
   ]
  },
  {
   "cell_type": "markdown",
   "metadata": {},
   "source": [
    "### 4. Purpose of the `return` Statement\n",
    "\n",
    "The `return` statement is used to exit a function and optionally pass back a value to the caller. Without a `return` statement, a function returns `None` by default.\n"
   ]
  },
  {
   "cell_type": "code",
   "execution_count": 11,
   "metadata": {},
   "outputs": [],
   "source": [
    "def multiply(x, y):\n",
    "    return x * y\n"
   ]
  },
  {
   "cell_type": "markdown",
   "metadata": {},
   "source": [
    "### 5. Iterators vs. Iterables\n",
    "\n",
    "- **Iterable:** An object that can return an iterator. It implements the `__iter__()` method which returns an iterator object.\n"
   ]
  },
  {
   "cell_type": "code",
   "execution_count": 12,
   "metadata": {},
   "outputs": [],
   "source": [
    "my_list = [1, 2, 3]\n"
   ]
  },
  {
   "cell_type": "markdown",
   "metadata": {},
   "source": [
    "- **Iterator:** An object that represents a stream of data. It implements two methods: `__iter__()` and `__next__()` (or `next()` in Python 2).\n"
   ]
  },
  {
   "cell_type": "code",
   "execution_count": 13,
   "metadata": {},
   "outputs": [],
   "source": [
    "my_iter = iter(my_list)\n"
   ]
  },
  {
   "cell_type": "markdown",
   "metadata": {},
   "source": [
    "  You can iterate through it using a loop:"
   ]
  },
  {
   "cell_type": "code",
   "execution_count": 14,
   "metadata": {},
   "outputs": [
    {
     "name": "stdout",
     "output_type": "stream",
     "text": [
      "1\n",
      "2\n",
      "3\n"
     ]
    }
   ],
   "source": [
    "for item in my_iter:\n",
    "    print(item)\n"
   ]
  },
  {
   "cell_type": "markdown",
   "metadata": {},
   "source": [
    "### 6. Generators in Python\n",
    "\n",
    "Generators are a type of iterable, created using functions with `yield` statements. They generate values on the fly and maintain their state between iterations.\n",
    "\n",
    "**Defining a Generator:**\n"
   ]
  },
  {
   "cell_type": "code",
   "execution_count": 15,
   "metadata": {},
   "outputs": [],
   "source": [
    "def countdown(n):\n",
    "    while n > 0:\n",
    "        yield n\n",
    "        n -= 1\n"
   ]
  },
  {
   "cell_type": "markdown",
   "metadata": {},
   "source": [
    "### 7. Advantages of Generators\n",
    "\n",
    "- **Memory Efficiency:** Generators produce items one at a time and only when requested, thus they are more memory efficient than storing all items in a list.\n",
    "- **Lazy Evaluation:** They evaluate values on-the-fly, which can be beneficial when dealing with large datasets or streams.\n",
    "\n",
    "### 8. Lambda Functions\n",
    "\n",
    "Lambda functions are small anonymous functions defined with the `lambda` keyword. They can have any number of arguments but only one expression. The result of the expression is returned automatically.\n",
    "\n",
    "**Syntax:**\n"
   ]
  },
  {
   "cell_type": "code",
   "execution_count": 16,
   "metadata": {},
   "outputs": [
    {
     "data": {
      "text/plain": [
       "<function __main__.<lambda>(arguments)>"
      ]
     },
     "execution_count": 16,
     "metadata": {},
     "output_type": "execute_result"
    }
   ],
   "source": [
    "lambda arguments: expression\n"
   ]
  },
  {
   "cell_type": "markdown",
   "metadata": {},
   "source": [
    "**Example:**"
   ]
  },
  {
   "cell_type": "code",
   "execution_count": 17,
   "metadata": {},
   "outputs": [],
   "source": [
    "add = lambda x, y: x + y\n",
    "result = add(2, 3)\n"
   ]
  },
  {
   "cell_type": "markdown",
   "metadata": {},
   "source": [
    "### 9. Purpose and Usage of the `map()` Function\n",
    "\n",
    "The `map()` function applies a given function to each item of an iterable and returns an iterator of the results.\n",
    "\n",
    "**Syntax:**\n",
    "\n",
    "```python\n",
    "map(function, iterable)\n",
    "```\n",
    "\n",
    "**Example:**"
   ]
  },
  {
   "cell_type": "code",
   "execution_count": 19,
   "metadata": {},
   "outputs": [],
   "source": [
    "numbers = [1, 2, 3]\n",
    "squared = map(lambda x: x**2, numbers)\n"
   ]
  },
  {
   "cell_type": "markdown",
   "metadata": {},
   "source": [
    "### 10. Difference Between `map()`, `reduce()`, and `filter()`\n",
    "\n",
    "- **`map()`:** Applies a function to all items in an iterable and returns an iterator of the results."
   ]
  },
  {
   "cell_type": "code",
   "execution_count": null,
   "metadata": {},
   "outputs": [],
   "source": [
    "map(lambda x: x**2, [1, 2, 3])  # Output: [1, 4, 9]\n"
   ]
  },
  {
   "cell_type": "markdown",
   "metadata": {},
   "source": [
    "- **`filter()`:** Filters items in an iterable based on a function that returns a boolean. Returns an iterator of items where the function returns `True`."
   ]
  },
  {
   "cell_type": "code",
   "execution_count": 3,
   "metadata": {},
   "outputs": [
    {
     "data": {
      "text/plain": [
       "<filter at 0x205dab34730>"
      ]
     },
     "execution_count": 3,
     "metadata": {},
     "output_type": "execute_result"
    }
   ],
   "source": [
    "filter(lambda x: x > 2, [1, 2, 3])  # Output: [3]\n"
   ]
  },
  {
   "cell_type": "markdown",
   "metadata": {},
   "source": [
    "- **`reduce()`:** Applies a binary function cumulatively to the items of an iterable, reducing it to a single value."
   ]
  },
  {
   "cell_type": "code",
   "execution_count": null,
   "metadata": {},
   "outputs": [],
   "source": [
    "from functools import reduce\n",
    "reduce(lambda x, y: x + y, [1, 2, 3])  # Output: 6\n"
   ]
  },
  {
   "cell_type": "markdown",
   "metadata": {},
   "source": [
    "### 11. Internal Mechanism for Sum Operation Using `reduce()`\n",
    "\n",
    "To calculate the sum of `[47, 11, 42, 13]` using `reduce()`, follow these steps:\n",
    "\n",
    "1. **Initialize Accumulator:** Start with the first item in the list as the initial accumulator value (47).\n",
    "\n",
    "2. **Apply Function:** Apply the function (addition) to the accumulator and the next item in the list.\n",
    "\n",
    "3. **Update Accumulator:** Update the accumulator with the result.\n",
    "\n",
    "4. **Repeat:** Continue this process for all items in the list.\n",
    "\n",
    "**Detailed Calculation:**\n"
   ]
  },
  {
   "cell_type": "code",
   "execution_count": 2,
   "metadata": {},
   "outputs": [],
   "source": [
    "from functools import reduce\n",
    "\n",
    "# List\n",
    "numbers = [47, 11, 42, 13]\n",
    "\n",
    "# Reduce function to sum the numbers\n",
    "sum_result = reduce(lambda x, y: x + y, numbers)\n"
   ]
  },
  {
   "cell_type": "markdown",
   "metadata": {},
   "source": [
    "**Step-by-Step Calculation:**\n",
    "\n",
    "1. Start with 47.\n",
    "2. Apply function to 47 and 11: 47 + 11 = 58.\n",
    "3. Apply function to 58 and 42: 58 + 42 = 100.\n",
    "4. Apply function to 100 and 13: 100 + 13 = 113.\n",
    "\n",
    "**Result: 113**"
   ]
  },
  {
   "cell_type": "markdown",
   "metadata": {},
   "source": []
  }
 ],
 "metadata": {
  "kernelspec": {
   "display_name": "Python 3",
   "language": "python",
   "name": "python3"
  },
  "language_info": {
   "codemirror_mode": {
    "name": "ipython",
    "version": 3
   },
   "file_extension": ".py",
   "mimetype": "text/x-python",
   "name": "python",
   "nbconvert_exporter": "python",
   "pygments_lexer": "ipython3",
   "version": "3.12.6"
  }
 },
 "nbformat": 4,
 "nbformat_minor": 2
}
